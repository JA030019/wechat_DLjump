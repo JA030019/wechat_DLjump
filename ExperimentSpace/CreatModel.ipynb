{
 "cells": [
  {
   "cell_type": "markdown",
   "metadata": {},
   "source": [
    "# Model训练脚本\n",
    "\n",
    "- 作用：**读取训练数据**并**训练神经网络**保存到./model.h5\n",
    "\n",
    "可尝试修改网络结构以获得更优结果\n",
    "\n",
    "训练好后将model.h5保存到项目根目录（已有预先模型的模型）"
   ]
  },
  {
   "cell_type": "code",
   "execution_count": null,
   "metadata": {},
   "outputs": [],
   "source": [
    "import os\n",
    "os.environ['KERAS_BACKEND']='tensorflow'"
   ]
  },
  {
   "cell_type": "code",
   "execution_count": null,
   "metadata": {},
   "outputs": [],
   "source": [
    "import numpy as np\n",
    "from keras.layers import Conv2D,Dense,Activation,Flatten,MaxPooling2D\n",
    "from keras.models import Sequential\n",
    "import pickle\n",
    "from PIL import Image,ImageFilter\n",
    "import matplotlib.pyplot as plt\n",
    "from matplotlib.patches import Circle\n",
    "import pickle,gzip"
   ]
  },
  {
   "cell_type": "code",
   "execution_count": null,
   "metadata": {},
   "outputs": [],
   "source": [
    "#don't change this\n",
    "resize_ratio = 8\n",
    "ban=[]"
   ]
  },
  {
   "cell_type": "markdown",
   "metadata": {},
   "source": [
    "# Data pre-processing\n",
    "\n",
    "下列三个cell对应功能：\n",
    "\n",
    "- 处理原始图片并保存到data.pkl.gz\n",
    "- 读取data.pkl.gz\n",
    "- 测试\n",
    "\n",
    "一般情况下执行第二个cell即可"
   ]
  },
  {
   "cell_type": "raw",
   "metadata": {},
   "source": [
    "# pack raw data\n",
    "print('Packing raw data......')\n",
    "\n",
    "X_train = []\n",
    "y_train = []\n",
    "\n",
    "raw_data_location = './rawdata/'\n",
    "tot=len(os.listdir(raw_data_location))\n",
    "cur=0\n",
    "for i in os.listdir(raw_data_location):\n",
    "    cur+=1\n",
    "    if cur%50==0:\n",
    "        print('current/total: '+str(cur)+'/'+str(tot))\n",
    "    img = Image.open(raw_data_location+i).crop((0, 500, 1080, 1300))\n",
    "    img = img.resize((img.width/resize_ratio, img.height/resize_ratio), Image.ANTIALIAS)\n",
    "    img = img.filter(ImageFilter.CONTOUR).convert('L')\n",
    "    img = np.array(img)/255.0\n",
    "    X_train.append(img)\n",
    "    y_train.append([int(i[4:8])/1080.0,(int(i[8:12])-500)/800.0,int(i[12:16])/1080.0,(int(i[16:20])-510)/800.0])\n",
    "\n",
    "print('Packing......')\n",
    "f=gzip.open('data.pkl.gz','wb')\n",
    "pickle.dump((np.array(X_train,dtype='float32').reshape(-1,100,135,1),np.array(y_train,dtype='float32').reshape(-1,4)),f)\n",
    "f.close()\n",
    "print('Done!')"
   ]
  },
  {
   "cell_type": "code",
   "execution_count": null,
   "metadata": {},
   "outputs": [],
   "source": [
    "f=gzip.open('data.pkl.gz')\n",
    "X_train,y_train = pickle.load(f)\n",
    "f.close()"
   ]
  },
  {
   "cell_type": "raw",
   "metadata": {
    "scrolled": false
   },
   "source": [
    "#test one picture\n",
    "index = np.random.randint(len(X_train))\n",
    "print index\n",
    "# index=141\n",
    "fig = plt.figure()\n",
    "ax = fig.add_subplot(111)\n",
    "ax.add_patch(Circle(xy = (y_train[index][0]*1080/resize_ratio,y_train[index][1]*800/resize_ratio), radius=1, alpha=0.9, color='red'))\n",
    "ax.add_patch(Circle(xy = (y_train[index][2]*1080/resize_ratio,y_train[index][3]*800/resize_ratio), radius=1, alpha=0.9, color='blue'))\n",
    "ax.imshow(X_train[index].reshape(100,135),cmap='gray')\n",
    "plt.show()\n",
    "# print X_train\n",
    "# print y_train"
   ]
  },
  {
   "cell_type": "markdown",
   "metadata": {},
   "source": [
    "# Build up model"
   ]
  },
  {
   "cell_type": "code",
   "execution_count": null,
   "metadata": {},
   "outputs": [],
   "source": [
    "## build Network\n",
    "model = Sequential()\n",
    "\n",
    "# Conv layer 1 output shape (32, 28, 28)\n",
    "model.add(Conv2D(\n",
    "                        batch_input_shape=(None, 100,135, 1),\n",
    "                        filters=32,\n",
    "                        kernel_size=6,\n",
    "                        strides=1,\n",
    "                        padding='same',\n",
    "                        ))\n",
    "model.add(Activation('relu'))\n",
    "model.add(MaxPooling2D(\n",
    "                       pool_size=2,\n",
    "                       padding='same',\n",
    "                       ))\n",
    "\n",
    "model.add(Conv2D(\n",
    "                        filters=48,\n",
    "                        kernel_size=5,\n",
    "                        strides=1,\n",
    "                        padding='same',\n",
    "                        ))\n",
    "model.add(Activation('relu'))\n",
    "model.add(MaxPooling2D(\n",
    "                       pool_size=2,\n",
    "                       padding='same',\n",
    "                       ))\n",
    "\n",
    "model.add(Conv2D(\n",
    "                        filters=48,\n",
    "                        kernel_size=5,\n",
    "                        strides=1,\n",
    "                        padding='same',\n",
    "                        ))\n",
    "model.add(Activation('relu'))\n",
    "model.add(MaxPooling2D(\n",
    "                       pool_size=2,\n",
    "                       padding='same',\n",
    "                       ))\n",
    "\n",
    "\n",
    "\n",
    "model.add(Flatten())\n",
    "\n",
    "# model.add(Dense(512))\n",
    "# model.add(Activation('relu'))\n",
    "\n",
    "model.add(Dense(64))\n",
    "model.add(Activation('relu'))\n",
    "\n",
    "#model.add(Dense(16))\n",
    "#model.add(Activation('relu'))\n",
    "\n",
    "#model.add(Dense(8))\n",
    "#model.add(Activation('relu'))\n",
    "\n",
    "model.add(Dense(4))\n",
    "model.add(Activation('sigmoid'))\n",
    "\n",
    "# We add metrics to get more results you want to see\n",
    "model.compile(optimizer='nadam',\n",
    "              loss='mse'\n",
    "              )"
   ]
  },
  {
   "cell_type": "markdown",
   "metadata": {},
   "source": [
    "# Train"
   ]
  },
  {
   "cell_type": "code",
   "execution_count": null,
   "metadata": {
    "scrolled": false
   },
   "outputs": [],
   "source": [
    "print('Training ------------')\n",
    "model.fit(X_train[:-10], y_train[:-10], epochs=32, batch_size=16)"
   ]
  },
  {
   "cell_type": "markdown",
   "metadata": {},
   "source": [
    "# Test"
   ]
  },
  {
   "cell_type": "code",
   "execution_count": null,
   "metadata": {},
   "outputs": [],
   "source": [
    "index=0\n",
    "maxloss=-1\n",
    "for i in range(len(X_train)):\n",
    "    if i in ban:\n",
    "        continue\n",
    "    loss = model.test_on_batch(np.array([X_train[i]]), np.array([y_train[i]]))\n",
    "    if loss > maxloss:\n",
    "        maxloss=loss\n",
    "        index=i\n",
    "ban.append(index)"
   ]
  },
  {
   "cell_type": "code",
   "execution_count": null,
   "metadata": {
    "scrolled": true
   },
   "outputs": [],
   "source": [
    "print index\n",
    "pre=model.predict(X_train[index].reshape(1,100,135,1))\n",
    "fig = plt.figure()\n",
    "ax = fig.add_subplot(111)\n",
    "ax.add_patch(Circle(xy = (y_train[index][0]*1080/resize_ratio,y_train[index][1]*800/resize_ratio), radius=1, alpha=0.9, color='red'))\n",
    "ax.add_patch(Circle(xy = (y_train[index][2]*1080/resize_ratio,y_train[index][3]*800/resize_ratio), radius=1, alpha=0.9, color='blue'))\n",
    "ax.add_patch(Circle(xy = (pre[0][0]*1080/resize_ratio,pre[0][1]*800/resize_ratio), radius=2, alpha=0.5, color='red'))\n",
    "ax.add_patch(Circle(xy = (pre[0][2]*1080/resize_ratio,pre[0][3]*800/resize_ratio), radius=2, alpha=0.5, color='blue'))\n",
    "ax.imshow(X_train[index].reshape(100,135),cmap='gray')\n",
    "plt.show()"
   ]
  },
  {
   "cell_type": "code",
   "execution_count": null,
   "metadata": {},
   "outputs": [],
   "source": [
    "model.save('model.h5')"
   ]
  },
  {
   "cell_type": "code",
   "execution_count": null,
   "metadata": {},
   "outputs": [],
   "source": [
    "loss = model.evaluate(X_train[-10:], y_train[-10:])\n",
    "print('test loss: ', loss)"
   ]
  },
  {
   "cell_type": "code",
   "execution_count": null,
   "metadata": {},
   "outputs": [],
   "source": []
  }
 ],
 "metadata": {
  "kernelspec": {
   "display_name": "Python 2",
   "language": "python",
   "name": "python2"
  },
  "language_info": {
   "codemirror_mode": {
    "name": "ipython",
    "version": 2
   },
   "file_extension": ".py",
   "mimetype": "text/x-python",
   "name": "python",
   "nbconvert_exporter": "python",
   "pygments_lexer": "ipython2",
   "version": "2.7.14"
  }
 },
 "nbformat": 4,
 "nbformat_minor": 2
}
